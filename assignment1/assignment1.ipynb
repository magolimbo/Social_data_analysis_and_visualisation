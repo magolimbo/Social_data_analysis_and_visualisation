{
 "cells": [
  {
   "cell_type": "markdown",
   "metadata": {},
   "source": [
    "# Assignment 1\n",
    "Gabriele Turetta s233124<br>\n",
    "Fernando Augusto Marina Urriola XXXXX\n",
    "\n",
    "## A1 Part 1: Visualizing patterns in the data\n",
    "\n"
   ]
  },
  {
   "cell_type": "markdown",
   "metadata": {},
   "source": [
    "## A1 Part 2: Dataviz questions"
   ]
  },
  {
   "cell_type": "markdown",
   "metadata": {},
   "source": [
    "1. **What is the difference between data and metadata? How does that relate to the GPS tracks-example?**<br>\n",
    "Data refers to the raw information that is processed and analyzed, in the form of numbers, text, images, or other forms that have meaning in their specific context. Metadata, on the other hand, refers to 'data about data' and provide information about the context, format, and structure of the data, or other details that enrich and make the data itself more complete. \n",
    "\n",
    "    <img src=\"Screenshot 2024-02-21 104823.png\" alt=\"garmin\" width=\"600\" height=\"auto\">\n",
    "\n",
    "    In the context of the GPS example, the data represents information related to the actual track, such as GPS position, timestamp and altitude of track points. These data are contained within the `<trkpt>` tags and are identified by the tags `lat`, `lon`, `ele` and `<time>`\n",
    "\n",
    "    On the other hand, metadata provides additional information about the GPX file as a whole, such as the track name (`<name>`), information about the file's origin (`<creator>`), the link to Garmin Connect (`<link>`), and the global timestamp (`<time>`) indicating when the data was created or recorded in the Garmin Connect system.\n",
    "\n",
    "\n",
    "2. **Sune says that the human eye is a great tool for data analysis. Do you agree? Explain why/why not.**\n",
    "    - **Mention something that the human eye is very good at.**\n",
    "    - **Can you think of something that is difficult for the human eye to process visually. Explain why your example is difficult.**<br>\n",
    "\n",
    "    We agree that the human eye is very unsuitable for extracting information from numbers and symbols but it is extremely skilled, more than machines, at recognizing shapes and making qualitative comparisons between them in terms of characteristics such as length, size, and color. This allows it to identify recurring patterns and discern differences and similarities, which can be valuable in various analytical tasks.\n",
    "\n",
    "    However, not all information can be perfectly processed by the human eye. This happens, for example, when visual comparison occurs between data that have widely different scales of magnitude. An example concerns many visualizations that try to explain [the scale of the universe](https://www.youtube.com/watch?v=i93Z7zljQ7I). The human eye is initially able to understand the vastness of planets when compared to the Earth, but then completely loses cognition of the infinity of the universe when moving towards celestial entities of such magnitude that the human mind cannot even process.\n",
    "3. **Simpson's paradox is hard to explain. Come up with your own example - or find one on line.**<br>\n",
    "    Simpson's Paradox is a statistical phenomenon where the same set of data can appear to show opposite trends depending on how it's grouped. This paradoxical effect occurs when a variable (sometimes called the lurking variable) that influences both the dependent and independent variables is not taken into account.\n",
    "    The [YouTube video](https://www.youtube.com/watch?v=sxYrzzy3cq8) about Simpson's Paradox uploaded by Ted-Ed, gives a nice example: there are two hospitals, A and B (independent variables), for elderly relative's surgery. Out of 1000 patients, 900 survive at hospital A and only 800 survive at hospital B (dependent variables). At a first glance it looks like Hospital A is the better choice. However, when considering the level of health (the lurking variable) with which the patiens arrive at the hospitals, an opposite trend appears. If we indeed consider the last 1000 patients that arrived at the hospital, hospital A had only 100 patients who arrived in poor health, of which 30 survived, while hospital B had 400, and they were able to save 210. Thus hospital B is the best choice for patients arriving with poor health, with a survival rate of 52.5% . Surprisingly, hospital B is the better choice also for patients arriving in good health, with a surviving rate of over 98%. The paradox appears, revealing that, taking into account the lurking variable of the health status, hospital B appears to be the best choice in both the situations, reversing the trend shown at the beginning that didn't take into account the lurking variable.\n",
    "4. **In your own words, explain the difference between exploratory and explanatory data analysis.**<br>\n",
    "    Exploratory data analysis is the initial phase of data analysis where the main goal is to explore and organize the data to gain insights and generate hypotheses. During EDA, various statistical and visualization techniques are used to uncover patterns and relationships within the data. The focus is on understanding the data's structure, identifying potential outliers, missing values or other anomalies .\n",
    "    On the other hand, explanatory data analysis is the next phase where the main goal is to explain or model the relationships observed during EDA. Analysts build predictive models or perform hypothesis in order to understand the underlying mechanisms driving the observed patterns in the data. The focus is on developing a deeper understanding of the data by identifying relationships and making predictions based on the data's features. We could say that the Exploratory phase is focused on the \"what\", while the Explanatory on the \"why\" and \"how\"."
   ]
  },
  {
   "cell_type": "markdown",
   "metadata": {},
   "source": []
  }
 ],
 "metadata": {
  "language_info": {
   "name": "python"
  }
 },
 "nbformat": 4,
 "nbformat_minor": 2
}
