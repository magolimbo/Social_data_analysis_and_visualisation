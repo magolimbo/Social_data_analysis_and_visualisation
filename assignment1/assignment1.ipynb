{
 "cells": [
  {
   "cell_type": "markdown",
   "metadata": {},
   "source": [
    "# Assignment 1\n",
    "Gabriele Turetta s233124<br>\n",
    "Fernando Augusto Marina Urriola XXXXX\n",
    "\n",
    "## A1 Part 1: Visualizing patterns in the data\n",
    "\n"
   ]
  },
  {
   "cell_type": "markdown",
   "metadata": {},
   "source": []
  }
 ],
 "metadata": {
  "language_info": {
   "name": "python"
  }
 },
 "nbformat": 4,
 "nbformat_minor": 2
}
